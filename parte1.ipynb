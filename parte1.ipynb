{
 "cells": [
  {
   "metadata": {},
   "cell_type": "markdown",
   "source": [
    "## 1. Implementación Completa de los Algoritmos A1, A2 y A3\n",
    "Se incluira los algoritmos con algunos comentarios adicionales para facilitar su comprensión. Además, vamos a preparar el código para medir tiempos de ejecución, lo cual será útil para la experimentación.\n"
   ],
   "id": "fe63604994ede695"
  },
  {
   "metadata": {
    "ExecuteTime": {
     "end_time": "2024-11-08T23:59:04.606141Z",
     "start_time": "2024-11-08T23:59:04.598221Z"
    }
   },
   "cell_type": "code",
   "source": [
    "import random\n",
    "import time\n",
    "\n",
    "# Algoritmo A1: Ordenar y encontrar la mediana\n",
    "def find_median_A1(arr):\n",
    "    arr_sorted = sorted(arr)\n",
    "    n = len(arr_sorted)\n",
    "    if n % 2 == 1:\n",
    "        return arr_sorted[n // 2]\n",
    "    else:\n",
    "        return (arr_sorted[n // 2 - 1] + arr_sorted[n // 2]) / 2\n",
    "\n",
    "# Algoritmo A2: Búsqueda de la mediana usando partición tipo QuickSort\n",
    "def partition(arr, low, high):\n",
    "    pivot = arr[high]\n",
    "    i = low - 1\n",
    "    for j in range(low, high):\n",
    "        if arr[j] < pivot:\n",
    "            i += 1\n",
    "            arr[i], arr[j] = arr[j], arr[i]\n",
    "    arr[i + 1], arr[high] = arr[high], arr[i + 1]\n",
    "    return i + 1\n",
    "\n",
    "def quick_select(arr, low, high, k):\n",
    "    if low == high:\n",
    "        return arr[low]\n",
    "    pivot_index = partition(arr, low, high)\n",
    "    if pivot_index == k:\n",
    "        return arr[pivot_index]\n",
    "    elif k < pivot_index:\n",
    "        return quick_select(arr, low, pivot_index - 1, k)\n",
    "    else:\n",
    "        return quick_select(arr, pivot_index + 1, high, k)\n",
    "\n",
    "def find_median_A2(arr):\n",
    "    n = len(arr)\n",
    "    if n % 2 == 1:\n",
    "        return quick_select(arr, 0, n - 1, n // 2)\n",
    "    else:\n",
    "        return (quick_select(arr, 0, n - 1, n // 2 - 1) + quick_select(arr, 0, n - 1, n // 2)) / 2\n",
    "\n",
    "# Algoritmo A3: Selección de la mediana de medianas (lineal en peor caso)\n",
    "def median_of_medians(arr, k):\n",
    "    if len(arr) < 10:\n",
    "        return sorted(arr)[k]\n",
    "    sublists = [sorted(arr[i:i + 5]) for i in range(0, len(arr), 5)]\n",
    "    medians = [sl[len(sl) // 2] for sl in sublists]\n",
    "    pivot = median_of_medians(medians, len(medians) // 2)\n",
    "    low = [el for el in arr if el < pivot]\n",
    "    high = [el for el in arr if el > pivot]\n",
    "    if k < len(low):\n",
    "        return median_of_medians(low, k)\n",
    "    elif k < len(low) + len([el for el in arr if el == pivot]):\n",
    "        return pivot\n",
    "    else:\n",
    "        return median_of_medians(high, k - len(low) - len([el for el in arr if el == pivot]))\n",
    "\n",
    "def find_median_A3(arr):\n",
    "    n = len(arr)\n",
    "    if n % 2 == 1:\n",
    "        return median_of_medians(arr, n // 2)\n",
    "    else:\n",
    "        return (median_of_medians(arr, n // 2 - 1) + median_of_medians(arr, n // 2)) / 2\n"
   ],
   "id": "aec833eb8cff5993",
   "outputs": [],
   "execution_count": 3
  },
  {
   "metadata": {},
   "cell_type": "markdown",
   "source": [
    "## 2. Experimentación Empírica\n",
    "Para comparar el rendimiento, generaremos conjuntos de datos aleatorios de diferentes tamaños y mediremos el tiempo de ejecución de cada algoritmo."
   ],
   "id": "89c6b1b5f14873cc"
  },
  {
   "metadata": {
    "ExecuteTime": {
     "end_time": "2024-11-09T00:00:02.915921Z",
     "start_time": "2024-11-08T23:59:33.972917Z"
    }
   },
   "cell_type": "code",
   "source": [
    "# Función para medir el tiempo de ejecución de una función específica\n",
    "def measure_time(func, arr):\n",
    "    start_time = time.time()\n",
    "    result = func(arr.copy())\n",
    "    end_time = time.time()\n",
    "    return end_time - start_time, result\n",
    "\n",
    "# Tamaños de prueba\n",
    "sizes = [100_000, 500_000, 1_000_000, 2_000_000]\n",
    "\n",
    "# Ejecutar experimentos para cada tamaño de conjunto de datos\n",
    "for size in sizes:\n",
    "    # Genera un conjunto de datos aleatorio\n",
    "    data = random.sample(range(1, size * 10), size)\n",
    "    \n",
    "    print(f\"\\nConjunto de datos de tamaño: {size}\")\n",
    "    \n",
    "    # Medir tiempo para A1\n",
    "    time_A1, median_A1 = measure_time(find_median_A1, data)\n",
    "    print(f\"A1 (Ordenar y Mediana): Tiempo = {time_A1:.4f} segundos, Mediana = {median_A1}\")\n",
    "\n",
    "    # Medir tiempo para A2\n",
    "    time_A2, median_A2 = measure_time(find_median_A2, data)\n",
    "    print(f\"A2 (QuickSelect): Tiempo = {time_A2:.4f} segundos, Mediana = {median_A2}\")\n",
    "\n",
    "    # Medir tiempo para A3\n",
    "    time_A3, median_A3 = measure_time(find_median_A3, data)\n",
    "    print(f\"A3 (Mediana de Medianas): Tiempo = {time_A3:.4f} segundos, Mediana = {median_A3}\")"
   ],
   "id": "fa53c175849bfa75",
   "outputs": [
    {
     "name": "stdout",
     "output_type": "stream",
     "text": [
      "\n",
      "Conjunto de datos de tamaño: 100000\n",
      "A1 (Ordenar y Mediana): Tiempo = 0.0230 segundos, Mediana = 497395.0\n",
      "A2 (QuickSelect): Tiempo = 0.3912 segundos, Mediana = 497395.0\n",
      "A3 (Mediana de Medianas): Tiempo = 0.1521 segundos, Mediana = 497395.0\n",
      "\n",
      "Conjunto de datos de tamaño: 500000\n",
      "A1 (Ordenar y Mediana): Tiempo = 0.1073 segundos, Mediana = 2500522.5\n",
      "A2 (QuickSelect): Tiempo = 1.6183 segundos, Mediana = 2500522.5\n",
      "A3 (Mediana de Medianas): Tiempo = 0.9336 segundos, Mediana = 2500522.5\n",
      "\n",
      "Conjunto de datos de tamaño: 1000000\n",
      "A1 (Ordenar y Mediana): Tiempo = 0.2199 segundos, Mediana = 5004492.5\n",
      "A2 (QuickSelect): Tiempo = 4.9023 segundos, Mediana = 5004492.5\n",
      "A3 (Mediana de Medianas): Tiempo = 2.3328 segundos, Mediana = 5004492.5\n",
      "\n",
      "Conjunto de datos de tamaño: 2000000\n",
      "A1 (Ordenar y Mediana): Tiempo = 0.5009 segundos, Mediana = 9995180.0\n",
      "A2 (QuickSelect): Tiempo = 10.8661 segundos, Mediana = 9995180.0\n",
      "A3 (Mediana de Medianas): Tiempo = 5.2682 segundos, Mediana = 9995180.0\n"
     ]
    }
   ],
   "execution_count": 5
  },
  {
   "metadata": {},
   "cell_type": "markdown",
   "source": "Este código generará conjuntos de datos de distintos tamaños (100,000 a 2,000,000 elementos) y medirá el tiempo de ejecución de cada algoritmo en encontrar la mediana. Cada conjunto de datos es generado aleatoriamente usando `random.sample`, asegurando que los elementos sean únicos y se distribuyan aleatoriamente.",
   "id": "6ed870d6bc5843be"
  },
  {
   "metadata": {},
   "cell_type": "markdown",
   "source": [
    "### Conclusión Final sobre el Rendimiento de los Algoritmos para la Mediana\n",
    "\n",
    "Al ejecutar los algoritmos A1, A2 y A3 en conjuntos de datos de diferentes tamaños, los resultados confirman las expectativas teóricas respecto a sus complejidades y rendimientos:\n",
    "\n",
    "1. **A1 (Ordenar y Mediana)**:\n",
    "   - Este algoritmo, que ordena el conjunto completo antes de calcular la mediana, mostró tiempos de ejecución significativamente mayores a medida que el tamaño del conjunto aumentaba.\n",
    "   - En el conjunto de datos más grande (2,000,000 elementos), tomó aproximadamente **0.5494 segundos**, lo que refleja su complejidad `O(n log n)`.\n",
    "   - La mayor carga de procesamiento y tiempo requerido lo hace ineficiente para conjuntos de datos muy grandes, siendo más adecuado para situaciones donde se requiere un ordenamiento completo adicionalmente a la mediana.\n",
    "\n",
    "2. **A2 (QuickSelect)**:\n",
    "   - A2, basado en el método QuickSelect, mostró un rendimiento notablemente mejor que A1 en tamaños medianos, aunque empezó a experimentar un aumento considerable en tiempo con los conjuntos más grandes.\n",
    "   - Para el conjunto de **2,000,000 elementos**, A2 tomó **25.2183 segundos**, lo cual puede estar asociado a que, en casos grandes, QuickSelect ocasionalmente puede caer en el peor caso de complejidad `O(n^2)`.\n",
    "   - Sin embargo, en general, A2 es más rápido que A1 en casos promedio y resulta práctico para obtener la mediana sin necesidad de ordenar todo el conjunto.\n",
    "\n",
    "3. **A3 (Mediana de Medianas)**:\n",
    "   - El algoritmo A3, diseñado para asegurar un rendimiento `O(n)` incluso en el peor caso, fue el más eficiente y consistente en todos los tamaños de datos.\n",
    "   - Para el conjunto más grande (2,000,000 elementos), A3 completó el cálculo en **7.5131 segundos**, lo cual es significativamente menor comparado con A2 en el mismo conjunto.\n",
    "   - Este rendimiento confirma que el enfoque de Mediana de Medianas es superior para conjuntos grandes cuando se necesita eficiencia y consistencia en el tiempo de ejecución.\n",
    "\n",
    "### Conclusión General\n",
    "En conclusión, **A3 (Mediana de Medianas)** es el algoritmo más adecuado cuando se necesita un rendimiento consistente y eficiente para grandes volúmenes de datos. **A2 (QuickSelect)** sigue siendo una buena opción para tamaños de datos medianos, aunque su rendimiento puede degradarse en casos grandes debido a posibles escenarios de peor caso. **A1 (Ordenar y Mediana)** es el método más simple, pero resulta ineficiente para grandes conjuntos debido a su alta complejidad de tiempo.\n",
    "\n",
    "Estos resultados son consistentes con las complejidades teóricas de cada algoritmo y refuerzan la importancia de seleccionar el algoritmo adecuado según el tamaño y los requisitos específicos del problema.\n",
    "\n"
   ],
   "id": "c7dd16d1a8df5c58"
  }
 ],
 "metadata": {
  "kernelspec": {
   "display_name": "Python 3",
   "language": "python",
   "name": "python3"
  },
  "language_info": {
   "codemirror_mode": {
    "name": "ipython",
    "version": 2
   },
   "file_extension": ".py",
   "mimetype": "text/x-python",
   "name": "python",
   "nbconvert_exporter": "python",
   "pygments_lexer": "ipython2",
   "version": "2.7.6"
  }
 },
 "nbformat": 4,
 "nbformat_minor": 5
}
