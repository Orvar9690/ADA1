{
 "cells": [
  {
   "metadata": {},
   "cell_type": "markdown",
   "source": [
    "# Parte 2: Subsecuencia Común más Larga (LCS)\n",
    "Se incluira los algoritmos con algunos comentarios adicionales para facilitar su comprensión. Además, vamos a preparar el código para medir tiempos de ejecución, lo cual será útil para la experimentación"
   ],
   "id": "2a17d260f3f00991"
  },
  {
   "cell_type": "code",
   "id": "initial_id",
   "metadata": {
    "collapsed": true,
    "ExecuteTime": {
     "end_time": "2024-11-09T00:22:40.418070Z",
     "start_time": "2024-11-09T00:22:40.409948Z"
    }
   },
   "source": [
    "import time\n",
    "import random\n",
    "import string\n",
    "\n",
    "# Genera una secuencia aleatoria de letras mayúsculas de longitud dada\n",
    "def generate_random_sequence(length):\n",
    "    return ''.join(random.choices(string.ascii_uppercase, k=length))\n",
    "\n",
    "# Función para calcular la longitud de la LCS usando programación dinámica\n",
    "def lcs_length(X, Y):\n",
    "    m, n = len(X), len(Y)\n",
    "    # Crear matriz (m+1) x (n+1) para almacenar las longitudes\n",
    "    L = [[0] * (n + 1) for _ in range(m + 1)]\n",
    "\n",
    "    # Llenar la matriz L\n",
    "    for i in range(1, m + 1):\n",
    "        for j in range(1, n + 1):\n",
    "            if X[i - 1] == Y[j - 1]:\n",
    "                L[i][j] = L[i - 1][j - 1] + 1\n",
    "            else:\n",
    "                L[i][j] = max(L[i - 1][j], L[i][j - 1])\n",
    "\n",
    "    # La longitud de la LCS se encuentra en L[m][n]\n",
    "    return L, L[m][n]\n",
    "\n",
    "# Función auxiliar para encontrar todas las LCS usando la matriz de longitudes\n",
    "def find_all_lcs(X, Y, L, m, n):\n",
    "    if m == 0 or n == 0:\n",
    "        return {\"\"}\n",
    "    elif X[m - 1] == Y[n - 1]:\n",
    "        lcs_set = find_all_lcs(X, Y, L, m - 1, n - 1)\n",
    "        return {lcs + X[m - 1] for lcs in lcs_set}\n",
    "    else:\n",
    "        lcs_set = set()\n",
    "        # Si podemos movernos hacia arriba\n",
    "        if L[m - 1][n] >= L[m][n - 1]:\n",
    "            lcs_set.update(find_all_lcs(X, Y, L, m - 1, n))\n",
    "        # Si podemos movernos hacia la izquierda\n",
    "        if L[m][n - 1] >= L[m - 1][n]:\n",
    "            lcs_set.update(find_all_lcs(X, Y, L, m, n - 1))\n",
    "        return lcs_set\n",
    "\n",
    "# Función principal para encontrar todas las LCS\n",
    "def lcs(X, Y):\n",
    "    L, length = lcs_length(X, Y)\n",
    "    lcs_sequences = find_all_lcs(X, Y, L, len(X), len(Y))\n",
    "    return lcs_sequences, length\n",
    "\n",
    "# Ejemplo de uso\n",
    "X = \"AGGTAB\"\n",
    "Y = \"GXTXAYB\"\n",
    "lcs_sequences, lcs_length_value = lcs(X, Y)\n",
    "print(f\"Longitud de la LCS: {lcs_length_value}\")\n",
    "print(\"Todas las LCS encontradas:\")\n",
    "for seq in lcs_sequences:\n",
    "    print(seq)\n"
   ],
   "outputs": [
    {
     "name": "stdout",
     "output_type": "stream",
     "text": [
      "Longitud de la LCS: 4\n",
      "Todas las LCS encontradas:\n",
      "GTAB\n"
     ]
    }
   ],
   "execution_count": 1
  },
  {
   "metadata": {},
   "cell_type": "markdown",
   "source": [
    "## Escalabilidad del Algoritmo\n",
    "Para verificar la escalabilidad del algoritmo, se medira el tiempo y el uso de memoria al ejecutarlo con secuencias de tamaños grandes, como 10.000 y 20.000 de caracteres."
   ],
   "id": "5ecb9b1fe5e406e8"
  },
  {
   "metadata": {
    "ExecuteTime": {
     "end_time": "2024-11-09T00:24:10.283010Z",
     "start_time": "2024-11-09T00:22:40.557352Z"
    }
   },
   "cell_type": "code",
   "source": [
    "# Función para medir el rendimiento de la LCS con secuencias grandes\n",
    "def measure_lcs_performance(X, Y):\n",
    "    start_time = time.time()\n",
    "    _, lcs_length_value = lcs_length(X, Y)\n",
    "    end_time = time.time()\n",
    "    print(f\"Tiempo de ejecución: {end_time - start_time:.4f} segundos\")\n",
    "    print(f\"Longitud de la LCS: {lcs_length_value}\")\n",
    "\n",
    "# Prueba con secuencias de 100,000 caracteres\n",
    "X_100k = generate_random_sequence(10_000)\n",
    "Y_100k = generate_random_sequence(10_000)\n",
    "print(\"Prueba con secuencias de 10.000 caracteres:\")\n",
    "measure_lcs_performance(X_100k, Y_100k)\n",
    "\n",
    "# Prueba con secuencias de 1,000,000 caracteres\n",
    "X_1M = generate_random_sequence(20_000)\n",
    "Y_1M = generate_random_sequence(20_000)\n",
    "print(\"\\nPrueba con secuencias de 20.000 caracteres:\")\n",
    "measure_lcs_performance(X_1M, Y_1M)\n"
   ],
   "id": "168d1917ffe956b2",
   "outputs": [
    {
     "name": "stdout",
     "output_type": "stream",
     "text": [
      "Prueba con secuencias de 10.000 caracteres:\n",
      "Tiempo de ejecución: 18.3385 segundos\n",
      "Longitud de la LCS: 3234\n",
      "\n",
      "Prueba con secuencias de 20.000 caracteres:\n",
      "Tiempo de ejecución: 69.8184 segundos\n",
      "Longitud de la LCS: 6512\n"
     ]
    }
   ],
   "execution_count": 2
  },
  {
   "metadata": {},
   "cell_type": "markdown",
   "source": [
    "## Conclusión\n",
    "A partir de los resultados obtenidos en la ejecución de pruebas empíricas con secuencias de 10,000 y 20,000 caracteres, se puede concluir lo siguiente:\n",
    "\n",
    "1. Crecimiento Exponencial del Tiempo de Ejecución:\n",
    "\n",
    "    - El tiempo de ejecución para calcular la LCS creció de manera significativa al duplicar el tamaño de las secuencias. Mientras que para secuencias de 10,000 caracteres el tiempo fue de aproximadamente 18.3 segundos, para secuencias de 20,000 caracteres aumentó a 69.8 segundos.\n",
    "    \n",
    "    - Esto refleja la complejidad O(m * n) del algoritmo, donde el tiempo de ejecución depende del producto de las longitudes de las secuencias.\n",
    "\n",
    "2. Impacto de la Complejidad Espacial:\n",
    "\n",
    "    - A medida que crecen las secuencias, el uso de memoria también incrementa notablemente debido a la matriz L de tamaño (m+1) x (n+1). Esto limita la escalabilidad del algoritmo, ya que la matriz ocupa una gran cantidad de espacio en memoria, dificultando el cálculo para secuencias mucho más largas (e.g., 100,000 o 1,000,000 caracteres).\n",
    "\n",
    "3. Longitud de la LCS:\n",
    "\n",
    "    - La longitud de la LCS también aumentó con el tamaño de las secuencias, lo cual es consistente con la mayor probabilidad de encontrar subsecuencias comunes en conjuntos de mayor tamaño.\n",
    "\n",
    "4. Limitaciones para Escalabilidad:\n",
    "\n",
    "    - Los tiempos obtenidos para 10,000 y 20,000 caracteres sugieren que el algoritmo no es práctico para secuencias de tamaño muy grande (por ejemplo, de 100,000 caracteres en adelante). Tanto el tiempo de ejecución como el consumo de memoria aumentan a niveles poco manejables en entornos comunes.\n",
    "\n",
    "### Recomendación\n",
    "Para aplicaciones que requieran procesar secuencias de tamaño significativamente grande, se sugiere:\n",
    "\n",
    "- Optimizar el algoritmo mediante técnicas avanzadas como divisiones de la matriz, estructuras de datos especializadas o algoritmos aproximados.\n",
    "- Implementar en un entorno de alto rendimiento con mayor capacidad de memoria y procesamiento, si la precisión exacta es requerida.\n",
    "\n",
    "En conclusión, el algoritmo de LCS basado en programación dinámica es adecuado para tamaños de secuencia medianos, pero su uso en secuencias de gran tamaño está limitado por su alta complejidad temporal y espacial."
   ],
   "id": "b68c952bc1baf97b"
  }
 ],
 "metadata": {
  "kernelspec": {
   "display_name": "Python 3",
   "language": "python",
   "name": "python3"
  },
  "language_info": {
   "codemirror_mode": {
    "name": "ipython",
    "version": 2
   },
   "file_extension": ".py",
   "mimetype": "text/x-python",
   "name": "python",
   "nbconvert_exporter": "python",
   "pygments_lexer": "ipython2",
   "version": "2.7.6"
  }
 },
 "nbformat": 4,
 "nbformat_minor": 5
}
